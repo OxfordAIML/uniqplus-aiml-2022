{
  "cells": [
    {
      "cell_type": "markdown",
      "metadata": {
        "id": "view-in-github",
        "colab_type": "text"
      },
      "source": [
        "<a href=\"https://colab.research.google.com/github/leojklarner/uniqplus-aiml-2022/blob/main/UNIQ%2B_intro_to_python.ipynb\" target=\"_parent\"><img src=\"https://colab.research.google.com/assets/colab-badge.svg\" alt=\"Open In Colab\"/></a>"
      ]
    },
    {
      "cell_type": "markdown",
      "metadata": {
        "id": "cZaN2tyfWu8C"
      },
      "source": [
        "# Introduction to Python\n",
        "\n",
        "*Authors: Leo Klarner, Jin Xu*\n",
        "\n",
        "Python is one of the most popular programming languages in current use. If you have ever taken a machine learning course or participated in a data science hackathon, chances are you have already written some Python code. Reasons that Python is so popular include that it:\n",
        "\n",
        "\n",
        "*   is freely available and installable on virtually any system\n",
        "*   has an intuitive syntax that emphasises simplicity and readability \n",
        "*   has a large user base with many high-quality open-source libraries\n",
        "\n",
        "\n",
        "By [design](https://en.wikipedia.org/wiki/Zen_of_Python), Python tries to encourage code that is as clear and understandable as possible.\n",
        "As an example, have a look at the following C++/Python code snippets that count from 0 to 2, multiply each number by 10, and print the results:\n",
        "\n",
        "\n",
        "```\n",
        "// C++ script that iterates through the numbers 0, 1 and 2,\n",
        "// multiplies each of them by 10 and prints the results\n",
        "#include <iostream>\n",
        "using namespace std;\n",
        "int main() {\n",
        "        int j = 10;\n",
        "        for (int i = 0; i <= 2; i++) {\n",
        "          cout << i * j << endl;\n",
        "        }\n",
        "    return 0;\n",
        "}\n",
        "```\n",
        "\n",
        "```\n",
        "# the equivalent script in Python\n",
        "j = 10\n",
        "for i in range(3):\n",
        "  print(i * j)\n",
        "```\n",
        "\n",
        "\n",
        "You can already see a couple of the design decisions that make writing and reading Python code much easier than in other languages. One of them is that code segments are simply denoted by indenting lines by multiples of 2 or 4 spaces, in contrast to relying on encapsulating statements such as braces. \n",
        "Additionally, variables in Python are dynamically typed, meaning that their data type (e.g. integer, floating point, ...) is determined at run time and we don't have to worry as much about type compatibilities when writing the code.\n",
        "\n",
        "More abstractly, Python is also very flexible in supporting a range of different programming paradigms (such as procedural, object-oriented and functional programming) that we will have a closer look at later on, making it a versatile general-purpose language.\n",
        "\n",
        "The cost of this easier and more straight-forward way of coding is that programmes written in Python are usually much slower than their equivalents in more restrictive languages such as C/C++. However, many of the open-source libraries mentioned above allow us to outsource some of the computationally expensive parts of our programme to faster languages, while still being able to write most of our code in Python.\n",
        "\n",
        "\n",
        "---\n",
        "\n",
        "\n",
        "## Objective of this course\n",
        "\n",
        "This course will teach you the basic programming skills that are required for a successful research project in the areas of machine learning and data science. It is split into the following three modules:\n",
        "\n",
        "\n",
        "1.   We will start with an introduction to fundamental concepts of programming in Python, covering the basic syntax required to write working code. \n",
        "2.   We will then look at a range of widely-used libraries that underpin most scientific computing research in Python.\n",
        "3.   Lastly, we will focus on software engineering best practices that will allow you to produce maintainable and reproducible code that can be used and extended by yourself and others.\n",
        "\n",
        "\n",
        "As many of you will come into this course with different levels of programming/Python experience, we encourage you to work through it at your own speed. The solutions to all excercises can be found at the bottom of the notebook. Taking the time to understand an exercise and solving it without looking at the solution will be a much more productive and rewarding way to learn that will save you time in the long run."
      ]
    },
    {
      "cell_type": "markdown",
      "metadata": {
        "id": "Ty2wdk4afbGO"
      },
      "source": [
        "# 1. Fundamental Python"
      ]
    },
    {
      "cell_type": "markdown",
      "metadata": {
        "id": "UPfsseoRpwGh"
      },
      "source": [
        "## Objects in Python\n",
        "\n",
        "The central concept in Python is that of an *object*. All information in a Python programme is represented as an object or a relation between objects.\n",
        "Every object is fully described by three properties:\n",
        "\n",
        "\n",
        "1.   **Identity**: a unique address in computer memory at which an object is stored - an object’s identity never changes once it has been created;\n",
        "2.   **Type**: a characterisation of the object that determines the operations it supports and the values it can take - like the identity, an object’s type is also unchangeable;\n",
        "3. **Value**: a collection of data that is stored in the object - depending on its type (mutable vs. immutable), an object's value can either change or stay constant after it is created."
      ]
    },
    {
      "cell_type": "code",
      "execution_count": null,
      "metadata": {
        "colab": {
          "base_uri": "https://localhost:8080/"
        },
        "id": "YkDO9lh51CQH",
        "outputId": "fd3a1f10-7820-4478-9a2e-3ec3a777dc51"
      },
      "outputs": [
        {
          "output_type": "stream",
          "name": "stdout",
          "text": [
            "1 2 1\n",
            "<class 'int'> <class 'int'> <class 'int'>\n"
          ]
        }
      ],
      "source": [
        "# everything in Python is an object - even just assigning integers\n",
        "# results in an object with an automatically determined type   \n",
        "\n",
        "number_a = 1\n",
        "number_b = 2\n",
        "number_c = 1\n",
        "\n",
        "print(number_a, number_b, number_c)\n",
        "print(type(number_a), type(number_b), type(number_c))"
      ]
    },
    {
      "cell_type": "code",
      "execution_count": null,
      "metadata": {
        "colab": {
          "base_uri": "https://localhost:8080/"
        },
        "id": "q-8XxKMk1Cu1",
        "outputId": "5ee1df07-006b-4291-f552-68de2d39639b"
      },
      "outputs": [
        {
          "output_type": "stream",
          "name": "stdout",
          "text": [
            "11256064 11256096 11256064\n"
          ]
        }
      ],
      "source": [
        "# an object's identity (i.e. its unique address in computer memory)\n",
        "# can be retrieved with the id() function \n",
        "\n",
        "print(id(number_a), id(number_b), id(number_c))"
      ]
    },
    {
      "cell_type": "code",
      "execution_count": null,
      "metadata": {
        "colab": {
          "base_uri": "https://localhost:8080/"
        },
        "id": "1qM60CnS1EpT",
        "outputId": "eaa2560f-e02e-41a1-da88-b4cdb1f2f370"
      },
      "outputs": [
        {
          "output_type": "stream",
          "name": "stdout",
          "text": [
            "False True\n"
          ]
        }
      ],
      "source": [
        "# variables of immutable types (such as integers) that share \n",
        "# the same value may be represented by the same object\n",
        "# whether two variables point to the same object can be\n",
        "# checked with the \"x is y\" command\n",
        "\n",
        "print(number_a is number_b, number_a is number_c)"
      ]
    },
    {
      "cell_type": "code",
      "execution_count": null,
      "metadata": {
        "colab": {
          "base_uri": "https://localhost:8080/"
        },
        "id": "90UOMe1G1FPR",
        "outputId": "15497919-bda5-4654-ffbf-2c78f7b08e7e"
      },
      "outputs": [
        {
          "output_type": "stream",
          "name": "stdout",
          "text": [
            "['__abs__', '__add__', '__and__', '__bool__', '__ceil__', '__class__', '__delattr__', '__dir__', '__divmod__', '__doc__', '__eq__', '__float__', '__floor__', '__floordiv__', '__format__', '__ge__', '__getattribute__', '__getnewargs__', '__gt__', '__hash__', '__index__', '__init__', '__init_subclass__', '__int__', '__invert__', '__le__', '__lshift__', '__lt__', '__mod__', '__mul__', '__ne__', '__neg__', '__new__', '__or__', '__pos__', '__pow__', '__radd__', '__rand__', '__rdivmod__', '__reduce__', '__reduce_ex__', '__repr__', '__rfloordiv__', '__rlshift__', '__rmod__', '__rmul__', '__ror__', '__round__', '__rpow__', '__rrshift__', '__rshift__', '__rsub__', '__rtruediv__', '__rxor__', '__setattr__', '__sizeof__', '__str__', '__sub__', '__subclasshook__', '__truediv__', '__trunc__', '__xor__', 'bit_length', 'conjugate', 'denominator', 'from_bytes', 'imag', 'numerator', 'real', 'to_bytes']\n"
          ]
        }
      ],
      "source": [
        "# the operations that a specific type allows\n",
        "# can be listed with the dir() command\n",
        "\n",
        "print(dir(number_a))"
      ]
    },
    {
      "cell_type": "markdown",
      "metadata": {
        "id": "-Y4SZQ51z41F"
      },
      "source": [
        "### Exercise 1.1\n",
        "\n",
        "Define an object of type *float* and find out how to represent it as a ratio of integers."
      ]
    },
    {
      "cell_type": "code",
      "execution_count": null,
      "metadata": {
        "id": "_Z_gvmlBz2cV"
      },
      "outputs": [],
      "source": [
        ""
      ]
    },
    {
      "cell_type": "markdown",
      "metadata": {
        "id": "quFWYDON3p0P"
      },
      "source": [
        "## Basic data types\n",
        "\n",
        "We have already seen that Python is able to directly infer the type of an object we create by assigning integer and floating point numbers at runtime. Additional \"atomic\" data types include strings, booleans and None, showcased below."
      ]
    },
    {
      "cell_type": "code",
      "execution_count": null,
      "metadata": {
        "colab": {
          "base_uri": "https://localhost:8080/"
        },
        "id": "YK-gnt779fo-",
        "outputId": "caa8fa26-9927-4a4b-bac6-e233184730fc"
      },
      "outputs": [
        {
          "output_type": "stream",
          "name": "stdout",
          "text": [
            "UNIQ +\n"
          ]
        }
      ],
      "source": [
        "# string types are squences of characters\n",
        "# that can be provided using both single\n",
        "# and double quotes\n",
        "\n",
        "string_1 = 'UNIQ'\n",
        "string_2 = \"+\"\n",
        "\n",
        "print(string_1, string_2)"
      ]
    },
    {
      "cell_type": "code",
      "execution_count": null,
      "metadata": {
        "colab": {
          "base_uri": "https://localhost:8080/"
        },
        "id": "bEsC7-rL_X1H",
        "outputId": "3de71393-9ce6-43ba-df58-c5ec86874ee7"
      },
      "outputs": [
        {
          "output_type": "stream",
          "name": "stdout",
          "text": [
            "False\n",
            "True\n"
          ]
        }
      ],
      "source": [
        "# boolean variables are binary types that we\n",
        "# can use to capture True/False relationships\n",
        "\n",
        "bool_1 = True\n",
        "bool_2 = False\n",
        "\n",
        "if bool_1:\n",
        "  print(bool_2)\n",
        "if not bool_2:\n",
        "  print(bool_1)"
      ]
    },
    {
      "cell_type": "code",
      "execution_count": null,
      "metadata": {
        "colab": {
          "base_uri": "https://localhost:8080/"
        },
        "id": "1yEy9bUs_srO",
        "outputId": "668f6ddf-8dc5-4aa3-fa42-ed01d3658dbe"
      },
      "outputs": [
        {
          "output_type": "stream",
          "name": "stdout",
          "text": [
            "None\n"
          ]
        }
      ],
      "source": [
        "# the None type can be used to denote the absence\n",
        "# of a specific value or type\n",
        "\n",
        "none_1 = None\n",
        "\n",
        "print(none_1)"
      ]
    },
    {
      "cell_type": "markdown",
      "metadata": {
        "id": "KWwk2K5y-LJ1"
      },
      "source": [
        "### Exercise 1.2\n",
        "\n",
        "Find out how to convert the following string to 'Uniq+'."
      ]
    },
    {
      "cell_type": "code",
      "execution_count": null,
      "metadata": {
        "colab": {
          "base_uri": "https://localhost:8080/"
        },
        "id": "7SQkPquA-M6N",
        "outputId": "723e392a-c69d-4262-e6fa-3cd1d76ed1e3"
      },
      "outputs": [
        {
          "output_type": "stream",
          "name": "stdout",
          "text": [
            "UNIQ+\n"
          ]
        }
      ],
      "source": [
        "# adding two string objects together concatenates them\n",
        "\n",
        "string_3 = string_1 + string_2\n",
        "print(string_3)"
      ]
    },
    {
      "cell_type": "code",
      "execution_count": null,
      "metadata": {
        "id": "CBES04lc_Uku"
      },
      "outputs": [],
      "source": [
        ""
      ]
    },
    {
      "cell_type": "markdown",
      "source": [
        "### Exercise 1.3\n",
        "\n",
        "Choose one other operation of one of the above data types and code up an example. Feel free to look up what exactly your chosen method does and how it is used."
      ],
      "metadata": {
        "id": "WOYMjTy6gACG"
      }
    },
    {
      "cell_type": "code",
      "source": [
        ""
      ],
      "metadata": {
        "id": "-c4wCElngGLW"
      },
      "execution_count": null,
      "outputs": []
    },
    {
      "cell_type": "markdown",
      "metadata": {
        "id": "zmv4GUfTBwiB"
      },
      "source": [
        "### Composite data types\n",
        "\n",
        "\"Composite\" data types are containers that point to a collection of different objects, including other containers. They include lists, tuples, sets and dictionaries.\n",
        "In contrast to other languages, composite data types in Python are flexible and may contain a mixture of different data types."
      ]
    },
    {
      "cell_type": "code",
      "execution_count": null,
      "metadata": {
        "colab": {
          "base_uri": "https://localhost:8080/"
        },
        "id": "uqPfNYpuMjfu",
        "outputId": "4f7e5a48-5a4c-4f07-a706-b4cc21096f54"
      },
      "outputs": [
        {
          "output_type": "stream",
          "name": "stdout",
          "text": [
            "[1, 2, 3] [[1, 2, 3], 4, 5.0, 'six', [1, 2, 3]]\n",
            "Getting the list lengths: 3 5\n",
            "Retrieving with a single index 1\n",
            "Retrieving with a slice [1, 2]\n",
            "Appending a new value to the list: [[1, 2, 3], 4, 5.0, 'six', [1, 2, 3], 7]\n",
            "Deleting the first element of the list: [4, 5.0, 'six', [1, 2, 3], 7]\n",
            "Removing all 7s from the list [4, 5.0, 'six', [1, 2, 3]]\n",
            "[0, 2, 3] [4, 5.0, 'six', [0, 2, 3]]\n"
          ]
        }
      ],
      "source": [
        "# we can define lists by simply passing comma-separated collection of objects\n",
        "# lists can be nested and contain objects that are themselves containers\n",
        "\n",
        "list_1 = [1, 2, 3]\n",
        "list_2 = [list_1, 4, 5.0, 'six', list_1]\n",
        "\n",
        "print(list_1, list_2)\n",
        "\n",
        "# the number of elements in a list (and all other containers)\n",
        "# can be retrieved with the len() statement\n",
        "\n",
        "print(\"Getting the list lengths:\", len(list_1), len(list_2))\n",
        "\n",
        "# the indices of a list start from 0 and can be \n",
        "# retrieved as single elements or so-called slices\n",
        "# slices denote a range of indices between the \n",
        "# first (incl.) and the second (excl.)\n",
        "\n",
        "print(\"Retrieving with a single index\", list_1[0])\n",
        "print(\"Retrieving with a slice\", list_1[0:2])\n",
        "\n",
        "# lists are mutable containers, and can thus be modified in-place \n",
        "\n",
        "list_2.append(7)\n",
        "print(\"Appending a new value to the list:\", list_2)\n",
        "\n",
        "del list_2[0]\n",
        "print(\"Deleting the first element of the list:\", list_2)\n",
        "\n",
        "list_2.remove(7)\n",
        "print(\"Removing all 7s from the list\", list_2)\n",
        "\n",
        "# modifying the individual objects also modifies them in the list\n",
        "\n",
        "list_1[0] = 0\n",
        "\n",
        "print(list_1, list_2)"
      ]
    },
    {
      "cell_type": "code",
      "execution_count": null,
      "metadata": {
        "colab": {
          "base_uri": "https://localhost:8080/"
        },
        "id": "uquEQQ7LO6A7",
        "outputId": "f003fdaa-7dfa-453a-e5f8-203fe3073671"
      },
      "outputs": [
        {
          "output_type": "stream",
          "name": "stdout",
          "text": [
            "Tuple: ([1, 2, 3], 4)\n",
            "First element of tuple (list type): [1, 2, 3]\n",
            "Tuple with modified list element: ([0, 2, 3], 4)\n"
          ]
        }
      ],
      "source": [
        "# tuples are immutable versions of lists, and can not be modified\n",
        "\n",
        "tuple_1 = ([1, 2, 3], 4)\n",
        "\n",
        "print(\"Tuple:\", tuple_1)\n",
        "\n",
        "# however, if they contain mutable objects, these can be modified\n",
        "# and are their updated values are shown in the tuple\n",
        "\n",
        "print(\"First element of tuple (list type):\", tuple_1[0])\n",
        "\n",
        "tuple_1[0][0] = 0\n",
        "\n",
        "print(\"Tuple with modified list element:\", tuple_1)"
      ]
    },
    {
      "cell_type": "code",
      "execution_count": null,
      "metadata": {
        "id": "bn5UDDTAa17b",
        "outputId": "616043a2-0e31-4543-ab0e-280aa5cb5664",
        "colab": {
          "base_uri": "https://localhost:8080/"
        }
      },
      "outputs": [
        {
          "output_type": "stream",
          "name": "stdout",
          "text": [
            "Two sets: {1, 2, 3} {3, 4}\n",
            "Membership check True\n",
            "Intersection of these sets: {3}\n",
            "Union of these sets: {1, 2, 3, 4}\n"
          ]
        }
      ],
      "source": [
        "# sets are (mutable) versions of lists that can only contain immutable elements\n",
        "# they are analogous to mathematical sets and allow very fast \n",
        "# set operations such as intersections and unions\n",
        "\n",
        "set_1 = {1, 2, 2, 3, 3, 3}\n",
        "set_2 = {3, 3, 3, 4, 4, 4, 4}\n",
        "print(\"Two sets:\", set_1, set_2)\n",
        "\n",
        "print(\"Membership check\", 3 in set_1)\n",
        "print(\"Intersection of these sets:\", set_1 & set_2)\n",
        "print(\"Union of these sets:\", set_1 | set_2)"
      ]
    },
    {
      "cell_type": "code",
      "execution_count": null,
      "metadata": {
        "id": "RA7ky92-a17b",
        "outputId": "0fee8684-37ac-4f46-9713-44b72ba4b280",
        "colab": {
          "base_uri": "https://localhost:8080/"
        }
      },
      "outputs": [
        {
          "output_type": "stream",
          "name": "stdout",
          "text": [
            "First element in dictionary: Into to Python\n",
            "Modified list object: [1, 2, 3, 4]\n",
            "Dictionary keys: dict_keys(['course', 1, 'list'])\n",
            "Dictionary values: dict_values(['Into to Python', 1, [1, 2, 3, 4]])\n",
            "Dictionary keys and values: dict_items([('course', 'Into to Python'), (1, 1), ('list', [1, 2, 3, 4])])\n"
          ]
        }
      ],
      "source": [
        "# dictionaries are Pythons version of key-value pairs\n",
        "# the key can be different (immutable) types, while\n",
        "# the values can be objects of any type\n",
        "\n",
        "dict_1 = {\"course\": \"Into to Python\", 1: 1, \"list\": [1, 2, 3]}\n",
        "\n",
        "# dictionaries allow efficient retrieval of the \n",
        "# information at a specific key and are mutable\n",
        "\n",
        "print(\"First element in dictionary:\", dict_1[\"course\"])\n",
        "dict_1[\"list\"] = dict_1[\"list\"] + [4]\n",
        "print(\"Modified list object:\", dict_1[\"list\"])\n",
        "\n",
        "# the keys and values of a dictionary can be accessed\n",
        "# separately or jointly\n",
        "\n",
        "print(\"Dictionary keys:\", dict_1.keys())\n",
        "print(\"Dictionary values:\", dict_1.values())\n",
        "print(\"Dictionary keys and values:\", dict_1.items())"
      ]
    },
    {
      "cell_type": "markdown",
      "source": [
        "### Exercise 1.4\n",
        "\n",
        "Code up one or more examples in which you use each of the composite data types introduced above. Explore at least one operation for every data type that we have not covered so far. Do they work as expected?"
      ],
      "metadata": {
        "id": "b4U-qFcdQ0hN"
      }
    },
    {
      "cell_type": "code",
      "source": [
        ""
      ],
      "metadata": {
        "id": "8iBSwTy5R09B"
      },
      "execution_count": null,
      "outputs": []
    },
    {
      "cell_type": "markdown",
      "metadata": {
        "id": "-Y_BkZ2Ta17c"
      },
      "source": [
        "### Beware of \"copying\" mutable types"
      ]
    },
    {
      "cell_type": "code",
      "execution_count": null,
      "metadata": {
        "id": "iGHDaCyVa17c",
        "outputId": "685f4dae-0935-4140-af15-464537169372",
        "colab": {
          "base_uri": "https://localhost:8080/"
        }
      },
      "outputs": [
        {
          "output_type": "stream",
          "name": "stdout",
          "text": [
            "We just create a new pointer to same object: True\n",
            "{'course': 'Into to Python', 1: 1, 'list': [1, 2, 3, 4], 'changed': True} {'course': 'Into to Python', 1: 1, 'list': [1, 2, 3, 4], 'changed': True}\n"
          ]
        }
      ],
      "source": [
        "# keep in mind that the following operation only creates\n",
        "# a new pointer to the same dictionary object\n",
        "\n",
        "dict_2 = dict_1\n",
        "\n",
        "print(\"We just create a new pointer to same object:\", dict_1 is dict_2)\n",
        "\n",
        "# changing dict_2 will this also change dict_1\n",
        "\n",
        "dict_2[\"changed\"] = True\n",
        "\n",
        "print(dict_1, dict_2)"
      ]
    },
    {
      "cell_type": "code",
      "source": [
        "# to truly copy an object and create a separate instance\n",
        "# python provides the copy library\n",
        "from copy import copy, deepcopy\n",
        "\n",
        "# the copy command copies the specific object\n",
        "copy_1 = copy(dict_1)\n",
        "print(copy_1 is dict_1, copy_1['list'] is dict_1['list'])\n",
        "\n",
        "# while the deepcopy command also copies all contained objects\n",
        "copy_2 = deepcopy(dict_1)\n",
        "print(copy_2 is dict_1, copy_2['list'] is dict_1['list'])"
      ],
      "metadata": {
        "colab": {
          "base_uri": "https://localhost:8080/"
        },
        "id": "GLpjkvG0Te2B",
        "outputId": "b7bcb01c-dfce-46bc-ea15-7bd01394c978"
      },
      "execution_count": null,
      "outputs": [
        {
          "output_type": "stream",
          "name": "stdout",
          "text": [
            "False True\n",
            "False False\n"
          ]
        }
      ]
    },
    {
      "cell_type": "markdown",
      "metadata": {
        "id": "7KzUz9XXa17c"
      },
      "source": [
        "### Type conversions\n",
        "\n",
        "Python is very flexible when it comes to converting objects between different types. If the current type of an object is compatible with the new one, you can simply convert it with e.g. the list() command."
      ]
    },
    {
      "cell_type": "code",
      "execution_count": null,
      "metadata": {
        "id": "dw13xdm5a17c",
        "outputId": "759a614e-4831-4d08-c935-a732e070329d",
        "colab": {
          "base_uri": "https://localhost:8080/"
        }
      },
      "outputs": [
        {
          "output_type": "stream",
          "name": "stdout",
          "text": [
            "Int to float: 1 -> 1.0\n",
            "Int to bool: 0 -> False\n",
            "Empty list to bool: [] -> False\n",
            "Non-empty list to bool: [0, 2, 3] -> True\n",
            "List to set: [0, 2, 3] -> {0, 2, 3}\n",
            "Dict keys to list: {'course': 'Into to Python', 1: 1, 'list': [1, 2, 3, 4], 'changed': True} -> ['course', 1, 'list', 'changed']\n",
            "Dict values to list: {'course': 'Into to Python', 1: 1, 'list': [1, 2, 3, 4], 'changed': True} -> ['Into to Python', 1, [1, 2, 3, 4], True]\n"
          ]
        }
      ],
      "source": [
        "# a non-exhaustive list object type conversions include\n",
        "\n",
        "print(\"Int to float:\", 1, \"->\", float(1))\n",
        "print(\"Int to bool:\", 0, \"->\", bool(0))\n",
        "# composite types are always 'True' if they are non-empty\n",
        "print(\"Empty list to bool:\", [], \"->\", bool([]))\n",
        "print(\"Non-empty list to bool:\", list_1, \"->\", bool(list_1))\n",
        "print(\"List to set:\", list_1, \"->\", set(list_1))\n",
        "\n",
        "# using type conversions on a dictionary operates on it's keys by default\n",
        "print(\"Dict keys to list:\", dict_1, \"->\", list(dict_1))\n",
        "print(\"Dict values to list:\", dict_1, \"->\", list(dict_1.values()))"
      ]
    },
    {
      "cell_type": "markdown",
      "source": [
        "### Exercise 1.5\n",
        "\n",
        "Find at least one type conversion that does not work. Can you think of a non-standard way to make it work?"
      ],
      "metadata": {
        "id": "b4CjslZzUXUc"
      }
    },
    {
      "cell_type": "code",
      "source": [
        ""
      ],
      "metadata": {
        "id": "I5EoeesKUk2D"
      },
      "execution_count": null,
      "outputs": []
    },
    {
      "cell_type": "markdown",
      "metadata": {
        "id": "83aDpH1Za17d"
      },
      "source": [
        "## Control flow statements\n",
        "\n",
        "Control flow statements allow us to specify how often and under what conditions certain parts of our programme should be executed. The standard control flow statements in python closely mirror other languages."
      ]
    },
    {
      "cell_type": "code",
      "execution_count": null,
      "metadata": {
        "id": "s8BgPiAHa17d",
        "outputId": "22592ff3-aadf-460a-ee76-5085ead98f99"
      },
      "outputs": [
        {
          "name": "stdout",
          "output_type": "stream",
          "text": [
            "[0, 2, 3]\n",
            "{1, 2, 3}\n"
          ]
        }
      ],
      "source": [
        "# if statements check whether a given condition is True,\n",
        "# and execute the operations they contain if it is\n",
        "\n",
        "if list_1:\n",
        "    print(list_1)\n",
        "    \n",
        "# if statements can be extended by zero or more\n",
        "# elif (short for else if) statements, that can\n",
        "# encode additional conditions and avoid excessive\n",
        "# nesting, and an optional else statement, which\n",
        "# is executed if all of the specified conditions fail\n",
        "\n",
        "if 4 in set_1:\n",
        "    print(set_2)\n",
        "elif 5 in set_1:\n",
        "    print(set_2)\n",
        "else:\n",
        "    print(set_1)"
      ]
    },
    {
      "cell_type": "code",
      "execution_count": null,
      "metadata": {
        "id": "Dta-qVFUa17e",
        "outputId": "aacbd669-8902-4651-d856-b8bbcfe6bc40",
        "colab": {
          "base_uri": "https://localhost:8080/"
        }
      },
      "outputs": [
        {
          "output_type": "stream",
          "name": "stdout",
          "text": [
            "0\n",
            "2\n",
            "3\n",
            "[0, 2, 3]\n",
            "0\n",
            "2\n",
            "3\n"
          ]
        }
      ],
      "source": [
        "# in contrast to other langauges like C, python's for statement\n",
        "# iterates over the items of any container object in the order\n",
        "# they appear in the sequence\n",
        "\n",
        "for element in list_1:\n",
        "    print(element)\n",
        "    \n",
        "# when iterating over the elements, they can be processed\n",
        "# without affecting the underlying container\n",
        "# however you should usually refrain from modifying the\n",
        "# container itself, as that usually leads to messy code\n",
        "\n",
        "for element in list_1:\n",
        "    element = element * 5 + 1\n",
        "print(list_1)\n",
        "\n",
        "# for iterating over a range of integers, python\n",
        "# provides the range() statement\n",
        "\n",
        "for i in range(len(list_1)):\n",
        "    print(list_1[i])"
      ]
    },
    {
      "cell_type": "code",
      "execution_count": null,
      "metadata": {
        "id": "1LysEFa-a17e",
        "outputId": "12ae1d86-c958-4a11-d087-bf063285b904"
      },
      "outputs": [
        {
          "name": "stdout",
          "output_type": "stream",
          "text": [
            "[0, 2, 3]\n",
            "[0, 2]\n",
            "[0]\n"
          ]
        }
      ],
      "source": [
        "# the while loop executes some code block \n",
        "# as long as it's condition stays true\n",
        "\n",
        "while list_1:\n",
        "    print(list_1)\n",
        "    list_1.pop()  # this removes the last element in list"
      ]
    },
    {
      "cell_type": "markdown",
      "source": [
        "### Exercise 1.6\n",
        "\n",
        "Explore how these control flow statements interact with the operations you discovered in exercise 1.4 and the type conversions (especially to bool) we worked with in exercise 1.5."
      ],
      "metadata": {
        "id": "LQB_TtXcVun9"
      }
    },
    {
      "cell_type": "code",
      "source": [
        ""
      ],
      "metadata": {
        "id": "3wz-M_jiVhnH"
      },
      "execution_count": null,
      "outputs": []
    },
    {
      "cell_type": "markdown",
      "metadata": {
        "id": "MNOLiaqVa17e"
      },
      "source": [
        "## Container comprehensions\n",
        "\n",
        "Comprehensions are very useful approaches to combine control flow statements that involve containers with a function that acts on each individual element."
      ]
    },
    {
      "cell_type": "code",
      "execution_count": null,
      "metadata": {
        "id": "_o1hlUYJa17f",
        "outputId": "304089bb-214b-4713-f707-b7a33d17515d"
      },
      "outputs": [
        {
          "name": "stdout",
          "output_type": "stream",
          "text": [
            "[0, 1, 2, 3, 4]\n",
            "[0, 2, 4, 6, 8]\n",
            "[0, 4, 8]\n",
            "{0, 2, 4, 6, 8}\n",
            "{0: 0, 1: 2, 2: 4, 3: 6, 4: 8}\n"
          ]
        }
      ],
      "source": [
        "# list comprehensions produce a list from some other iterable type\n",
        "\n",
        "list_compr_1 = [i for i in range(5)]\n",
        "list_compr_2 = [2 * i for i in range(5)]\n",
        "\n",
        "print(list_compr_1)\n",
        "print(list_compr_2)\n",
        "\n",
        "# We can also use list comprehensions to perform the equivalent \n",
        "# of a filter operation, by putting the filter condition at the end\n",
        "\n",
        "list_compr_3 = [2 * i for i in range(5) if i % 2 == 0]\n",
        "print(list_compr_3)\n",
        "\n",
        "# the same structure exists for dictionaries and sets\n",
        "\n",
        "set_compr_1 = {2 * i for i in range(5)}\n",
        "dict_compr_1 = {i: 2 * i for i in range(5)}\n",
        "\n",
        "print(set_compr_1)\n",
        "print(dict_compr_1)\n",
        "\n",
        "# tuples don't have list comprehensions, as they are not mutable,\n",
        "# however a comprehension that uses (i for i in range(5)) exists\n",
        "# and is used to define a \"generator\", not covered in more detail here"
      ]
    },
    {
      "cell_type": "markdown",
      "source": [
        "### Exercise 1.7\n",
        "\n",
        "Restate your results from exercise 1.6 as a comprehension. Does that make your code more readable? Can you think of examples for which a comprehension does not make sense and the \"rolled-out\" form is preferable?"
      ],
      "metadata": {
        "id": "JyKij8K8XyT0"
      }
    },
    {
      "cell_type": "code",
      "source": [
        ""
      ],
      "metadata": {
        "id": "5vH8yE3gYl6z"
      },
      "execution_count": null,
      "outputs": []
    },
    {
      "cell_type": "markdown",
      "metadata": {
        "id": "7ZvoXKFea17f"
      },
      "source": [
        "## Procedural programming \n",
        "\n",
        "So far we've been writing our code as one continuous statement, using for and while loops to repeat parts of it.\n",
        "However, as our programme gets longer and needs more flexibility, we would like to abstract and compartmentalise certain functionalities, hiding the complexity of the actual processing.\n",
        "Procedural programming is one of the paradigms that aims to achieve this, based around the idea that code should be structured into a set of re-usable blocks (i.e. procedures).\n",
        "Each procedure receives some inputs, performs some computation and returns some output. We can then use them to write more complex and readable code, without concerning oruselves with exactly how the computation is performed. \n",
        "\n",
        "In Python, these procedures are called functions and we have already used a lot of built-in ones, allowing us to do exactly what they were designed for: performing abstract manipulations without having to worry about how they are implemented.\n",
        "\n",
        "However, as our programmes get more tailored and complex, we would like to define and compose our own functions. The keyword to do so is def, followed by a list of arguments in parentheses and a return statement. If no return statement is specified, the function will return None by default.\n",
        "To call a function we use it's name, followed by brackets containing any arguments that we wish to pass. All functions in Python return a single value as their result, although that value can be a container."
      ]
    },
    {
      "cell_type": "code",
      "execution_count": null,
      "metadata": {
        "id": "wDLy3v1Va17g",
        "outputId": "37dfd9ee-146c-4667-e592-93685eb242f6",
        "colab": {
          "base_uri": "https://localhost:8080/"
        }
      },
      "outputs": [
        {
          "output_type": "stream",
          "name": "stdout",
          "text": [
            "2\n"
          ]
        }
      ],
      "source": [
        "# example of the syntax required to degine a function\n",
        "\n",
        "def add_one(value):\n",
        "    return value + 1\n",
        "\n",
        "print(add_one(1))"
      ]
    },
    {
      "cell_type": "markdown",
      "metadata": {
        "id": "oiIDW_Haa17h"
      },
      "source": [
        "### Exercise 1.8\n",
        "\n",
        "Write a short function called wrap that takes two string arguments and returns a new string that has one of these strings at the beginning and end of the original. Meaning that wrap(\"UNIQ\", \"+\") should produce \"+UNIQ+\"."
      ]
    },
    {
      "cell_type": "code",
      "execution_count": null,
      "metadata": {
        "id": "5cqPRY2ea17i"
      },
      "outputs": [],
      "source": [
        ""
      ]
    },
    {
      "cell_type": "markdown",
      "source": [
        "### Exercise 1.9\n",
        "\n",
        "Restate your results from exercises 1.6/1.7 in the form of a function, adding some complexity if you want."
      ],
      "metadata": {
        "id": "9nyAExyccnDK"
      }
    },
    {
      "cell_type": "code",
      "source": [
        ""
      ],
      "metadata": {
        "id": "W8wcoopCc0lz"
      },
      "execution_count": null,
      "outputs": []
    },
    {
      "cell_type": "markdown",
      "metadata": {
        "id": "W9f8cQNxa17i"
      },
      "source": [
        "It’s useful to note that even though variables defined inside a function may use the same name as variables defined outside, they don’t refer to the same thing. This is because of variable scoping.\n",
        "\n",
        "Within a function, any variables that are created (such as those passed as arguments and those newly defined within the function body), only exist within the scope of the function."
      ]
    },
    {
      "cell_type": "code",
      "execution_count": null,
      "metadata": {
        "id": "pYDXJphga17i",
        "outputId": "00f9c508-e9a1-4694-ecfe-4e2d337d13c8"
      },
      "outputs": [
        {
          "name": "stdout",
          "output_type": "stream",
          "text": [
            "0\n"
          ]
        }
      ],
      "source": [
        "# for example, the f and k variables defined and used within the function \n",
        "# do not interfere with those defined outside of the function\n",
        "# This is useful, since it means we don’t have to worry about conflicts\n",
        "# of variable names that are defined outside of our function that may cause \n",
        "# incorrect behaviour and other issues\n",
        "\n",
        "f = 0\n",
        "k = 0\n",
        "\n",
        "def multiply_by_10(f):\n",
        "    k = f * 10\n",
        "    return k\n",
        "\n",
        "multiply_by_10(2)\n",
        "multiply_by_10(8)\n",
        "\n",
        "print(k)"
      ]
    },
    {
      "cell_type": "markdown",
      "metadata": {
        "id": "7lLSuDKqa17i"
      },
      "source": [
        "## Object-oriented programming\n",
        "\n",
        "Object-oriented programming is similar to procedural programming in that it aims to build abstract and re-usable code around data. However, we shift our focus from the process of computation to the data with which the computation is performed. The overarching idea is that code should be structured such that all data related to the same object is stored together. This is easiest to understand when thinking about a real-world object, but it is also applicable to more abstract concepts.\n",
        "\n",
        "We have already worked with objects a lot, as everything in Python (including functions) is represented as an object of a specific type.\n",
        "Similarly to functions, we can extend the range of built-in objects we have access to by defining our own type. In Python, this is done by defining a custom class, which is a template describing the structure of some collection of data, along with the operations needed to process it."
      ]
    },
    {
      "cell_type": "code",
      "execution_count": null,
      "metadata": {
        "id": "R9EgI32ja17i",
        "outputId": "5fd7507b-4a32-4e5e-db9c-7870b3dda2fd",
        "colab": {
          "base_uri": "https://localhost:8080/"
        }
      },
      "outputs": [
        {
          "output_type": "stream",
          "name": "stdout",
          "text": [
            "<class '__main__.Lecturer'>\n",
            "['__class__', '__delattr__', '__dict__', '__dir__', '__doc__', '__eq__', '__format__', '__ge__', '__getattribute__', '__gt__', '__hash__', '__init__', '__init_subclass__', '__le__', '__lt__', '__module__', '__ne__', '__new__', '__reduce__', '__reduce_ex__', '__repr__', '__setattr__', '__sizeof__', '__str__', '__subclasshook__', '__weakref__', 'assign_rating', 'name', 'rating']\n",
            "Assigned rating to Jin  -  11 / 10\n"
          ]
        }
      ],
      "source": [
        "class Lecturer:\n",
        "    \n",
        "    # almost every class needs an __init__ method\n",
        "    # which initialises the object with any\n",
        "    # associated data\n",
        "    def __init__(self, name):\n",
        "        self.name = name\n",
        "        self.rating = None\n",
        "\n",
        "    # to extend the behaviour of a class beyond data storage\n",
        "    # we can define our own operations\n",
        "    # these are defined just as as normal functions, but have to\n",
        "    # receive the self argument to get access to variables\n",
        "    # and other methods of the class they are associated with\n",
        "    def assign_rating(self, rating):\n",
        "        self.rating = str(rating) + \" / 10\"\n",
        "        print(\"Assigned rating to\", self.name, \" - \", self.rating)\n",
        "\n",
        "jin = Lecturer(name=\"Jin\")\n",
        "\n",
        "print(type(jin))\n",
        "print(dir(jin))\n",
        "\n",
        "jin.assign_rating(11)"
      ]
    },
    {
      "cell_type": "markdown",
      "metadata": {
        "id": "G5hJ3XD6a17j"
      },
      "source": [
        "The \\__init__ method we just used is one of a few special method names which Python will recognise and use to provide a few common behaviours. They are denoted by double underscores and you will have already seen them when examining the built-in classes using the dir() function. A couple of other useful methods include:\n",
        "\n",
        "* \\__str__ - converts an object into its string representation, used when you do str(object) or print(object)\n",
        "* \\__getitem__ - Accesses an object by key, this is how list[x] and dict[x] are implemented\n",
        "* \\__len__ - gets the length of an object - usually the number of items it contains"
      ]
    },
    {
      "cell_type": "markdown",
      "metadata": {
        "id": "YgiYVxa1a17j"
      },
      "source": [
        "### Exercise 1.10\n",
        "\n",
        "Implement a custom class for an object that makes use of all the special methods listed above. Feel free to build it around your results from exercises 1.6/1.7/1.9."
      ]
    },
    {
      "cell_type": "code",
      "source": [
        ""
      ],
      "metadata": {
        "id": "8jyHqQGuuZeq"
      },
      "execution_count": null,
      "outputs": []
    },
    {
      "cell_type": "markdown",
      "metadata": {
        "id": "C4oc_h8PZDzK"
      },
      "source": [
        "# 2. Working with NumPy\n",
        "\n",
        "As all data in Python is implemented in the form of objects, numerical operations can be (and almost always are) computationally inefficient. However, similarly to defining functions and objects in pure Python, we can also build functions and objects that interface with faster, lower-level languages like C/C++.\n",
        "\n",
        "One widely-used library that provides an extensive set of pre-built functionalities for scientific computing is numpy.\n",
        "It is included in many Python distributions (such as the Colab environment) by default and is the library of choice when working with multi-dimensional arrays (i.e. vectors, matrices and tensors).\n",
        "\n",
        "Most modern machine learning libraries are either built on numpy (scipy, scikit-learn, ...) or mimic it's syntax (Pytorch, JAX, ...), which means that it is very helpful to have some degree of fluency in it."
      ]
    },
    {
      "cell_type": "code",
      "execution_count": null,
      "metadata": {
        "id": "slAZ_N1EZJuP"
      },
      "outputs": [],
      "source": [
        "# as we've seen before with the copy library\n",
        "# we load additional libraries with the \n",
        "# import statement and also assign it the alias of \"np\"\n",
        "import numpy as np"
      ]
    },
    {
      "cell_type": "code",
      "execution_count": null,
      "metadata": {
        "id": "KykOvNjka17l",
        "outputId": "04feb152-72b4-435d-fa5a-77cf67b08a89",
        "colab": {
          "base_uri": "https://localhost:8080/"
        }
      },
      "outputs": [
        {
          "output_type": "stream",
          "name": "stdout",
          "text": [
            "[1 2 3] [4 5 6]\n",
            "[[1 2 3]\n",
            " [4 5 6]\n",
            " [7 8 9]]\n",
            "[[9 8 7]\n",
            " [6 5 4]\n",
            " [3 2 1]]\n",
            "(3,) (3, 3)\n"
          ]
        }
      ],
      "source": [
        "# numpy is centred around so-called array objects\n",
        "# they represent multidimensional vectors/matrices/tensors\n",
        "# and, superficially, behave similarly to lists.\n",
        "# However you usually can't (efficiently) change the\n",
        "# size of the array or the data type of it's elements\n",
        "\n",
        "vector_1 = np.array([1, 2, 3], dtype=int)\n",
        "vector_2 = np.array([4, 5, 6], dtype=int)\n",
        "\n",
        "print(vector_1, vector_2)\n",
        "\n",
        "# nested lists (i.e. lists of lists) are used to denote multidimensional arrays\n",
        "# these have to be regular, i.e every row needs to have equally many columns\n",
        "# and vice versa, as numpy relies on this regularity to speed up oprations\n",
        "\n",
        "matrix_1 = np.array([[1, 2, 3], [4, 5, 6], [7, 8, 9]], dtype=int)\n",
        "matrix_2 = np.array([[9, 8, 7], [6, 5, 4], [3, 2, 1]], dtype=int)\n",
        "\n",
        "print(matrix_1)\n",
        "print(matrix_2)\n",
        "\n",
        "# the shape of numpy arrays can be accessed through the .shape attribute\n",
        "\n",
        "print(vector_1.shape, matrix_1.shape)"
      ]
    },
    {
      "cell_type": "markdown",
      "source": [
        "### Exercise 2.1\n",
        "\n",
        "Can you reformulate any of your containers from the previous exercises as a numpy array? If not, why is that and how could you extend them so that they are?"
      ],
      "metadata": {
        "id": "FF8fUItFyYSU"
      }
    },
    {
      "cell_type": "code",
      "source": [
        ""
      ],
      "metadata": {
        "id": "ArLZmeSSya11"
      },
      "execution_count": null,
      "outputs": []
    },
    {
      "cell_type": "markdown",
      "metadata": {
        "id": "fomMJfema17l"
      },
      "source": [
        "One of the main advantages of numpy is that is able to convert relatively slow for-loop type operations in Python into a vectorised version that is executed in a lower-level language.\n",
        "These vectorized commands are\n",
        "heavily optimized but still very flexible.\n",
        "Commonly used commans include. "
      ]
    },
    {
      "cell_type": "code",
      "execution_count": null,
      "metadata": {
        "id": "6zuFiHDWa17l",
        "outputId": "843ddaec-e9ed-4315-f4fb-f14b3b2427ce",
        "colab": {
          "base_uri": "https://localhost:8080/"
        }
      },
      "outputs": [
        {
          "output_type": "stream",
          "name": "stdout",
          "text": [
            "Element-wise addition: [5 7 9]\n",
            "Element-wise subtraction: [-3 -3 -3]\n",
            "Element-wise multiplicaton: [ 4 10 18]\n",
            "Element-wise division: [0.25 0.4  0.5 ]\n",
            "[[ 30  24  18]\n",
            " [ 84  69  54]\n",
            " [138 114  90]]\n",
            "[14 32 50]\n",
            "Maximum in each column (across rows) [7 8 9]\n",
            "Maximum in each row (across columns) [3 6 9]\n",
            "Mean of each column [4. 5. 6.]\n",
            "Standard deviation of each column [2.44948974 2.44948974 2.44948974]\n",
            "Sum of each column (across rows) [12 15 18]\n",
            "Sum of each row (across columns) [ 6 15 24]\n",
            "Sum of the entire array: 45\n"
          ]
        }
      ],
      "source": [
        "# element-wise addition, subtraction, multiplication and division\n",
        "\n",
        "print(\"Element-wise addition:\", vector_1 + vector_2)\n",
        "print(\"Element-wise subtraction:\", vector_1 - vector_2)\n",
        "print(\"Element-wise multiplicaton:\", vector_1 * vector_2)\n",
        "print(\"Element-wise division:\", vector_1 / vector_2)\n",
        "\n",
        "# matrix-matrix/matrix-vector multiplication\n",
        "# which is only valid if the dimensions align\n",
        "\n",
        "print(matrix_1 @ matrix_2)\n",
        "print(matrix_1 @ vector_1)\n",
        "\n",
        "# finding the the maximum of a matrix along a specific\n",
        "# dimension (0 = arcross rows, 1 = across columns)\n",
        "\n",
        "print(\"Maximum in each column (across rows)\", matrix_1.max(0))\n",
        "print(\"Maximum in each row (across columns)\", matrix_1.max(1))\n",
        "\n",
        "# finding the mean and standard deviation along a specific dimension\n",
        "print(\"Mean of each column\", matrix_1.mean(0))\n",
        "print(\"Standard deviation of each column\", matrix_1.std(0))\n",
        "\n",
        "# calculating the sum along a specific dimension\n",
        "print(\"Sum of each column (across rows)\", matrix_1.sum(0))\n",
        "print(\"Sum of each row (across columns)\", matrix_1.sum(1))\n",
        "print(\"Sum of the entire array:\", matrix_1.sum())"
      ]
    },
    {
      "cell_type": "markdown",
      "source": [
        "Another important and very useful concept when working with numpy arrays and vectorised functions is broadcasting. This describes how numpy functions treat arrays with different dimensionalities. Subject to certain constraints, a smaller array can be “broadcast” across a larger one so that they have compatible shapes. This makes sure that this loop occurs in C instead of Python, avoiding making needless copies of data and resutling in more efficient algorithms. "
      ],
      "metadata": {
        "id": "Q_XpvsOBztY2"
      }
    },
    {
      "cell_type": "code",
      "source": [
        "# as we have seen before, element-wise operations between arrays \n",
        "# of matching shapes will pair up corresponding elements\n",
        "\n",
        "print(vector_1 * vector_2)\n",
        "\n",
        "# however, if the arrays have different sizes and\n",
        "# the dimensionality of the larger array is a multiple\n",
        "# of the dimensionality of the smaller array\n",
        "# numpy can still carry out element-wise operations\n",
        "# by \"repeating\" the smaller array a set number of times\n",
        "# this is simple to understand for a scalar\n",
        "\n",
        "vector_3 = np.array([2])\n",
        "print(vector_1 * vector_3)\n",
        "\n",
        "# but also works for higher-dimensional arrays, e.g. we can\n",
        "# element-wise multiply a 1x3 row vector with a 3x3 matrix\n",
        "# which results in the vector being element-wise multiplied\n",
        "# with each row of the matrix\n",
        "\n",
        "print(matrix_1 * vector_1)"
      ],
      "metadata": {
        "colab": {
          "base_uri": "https://localhost:8080/"
        },
        "id": "1JJstdTp0nwG",
        "outputId": "5dbd5739-9d87-4ae5-e14a-74d01494299f"
      },
      "execution_count": null,
      "outputs": [
        {
          "output_type": "stream",
          "name": "stdout",
          "text": [
            "[ 4 10 18]\n",
            "[2 4 6]\n",
            "[[ 1  4  9]\n",
            " [ 4 10 18]\n",
            " [ 7 16 27]]\n"
          ]
        }
      ]
    },
    {
      "cell_type": "markdown",
      "source": [
        "### Exercise 2.2\n",
        "\n",
        "Can you reformulate any of your functions from the previous section as a combination of vectorised numpy functions? If not, why is that and how could you extend either the functions or the underlying data so that they are?"
      ],
      "metadata": {
        "id": "zd63bcaVzIxc"
      }
    },
    {
      "cell_type": "code",
      "source": [
        ""
      ],
      "metadata": {
        "id": "yvyjh_DNziAC"
      },
      "execution_count": null,
      "outputs": []
    },
    {
      "cell_type": "markdown",
      "metadata": {
        "id": "9Gz8GEwja17l"
      },
      "source": [
        "### Exercise 2.3 - data standardisation\n",
        "\n",
        "In many machine learning applications, we are working with a matrix of N observations, each of wich has D different measured values (often called features, e.g. the height, weight and age of a person).\n",
        "As each of these features is usually measured on a different scale, a common pre-processing step is to standardise them.\n",
        "\n",
        "When looking at the data as an NxD matrix, this is achieved by rescaling each of the columns so that they have a mean of zero and a standard deviation of one, which is achieved by the following element-wise operations:\n",
        "\n",
        "\n",
        "\n",
        "1.   subtract the mean of a specific column from all values in that same column \n",
        "2.   divide the values in a specific column by the standard deviation of that same column\n",
        "\n",
        "Write a function that accepts an NxD data matrix as input and outputs the matrix after normalization. Try to write this function using only vectorised numpy commands."
      ]
    },
    {
      "cell_type": "code",
      "execution_count": null,
      "metadata": {
        "id": "-eo7Gnmma17m",
        "outputId": "5926b697-f21e-4459-d349-8670b58b35e6",
        "colab": {
          "base_uri": "https://localhost:8080/"
        }
      },
      "outputs": [
        {
          "output_type": "stream",
          "name": "stdout",
          "text": [
            "(200, 10)\n",
            "[0.49382086 0.50528881 0.53416996 0.48819435 0.49333588 0.51891049\n",
            " 0.50839676 0.47127583 0.50340598 0.49037545]\n",
            "[0.29165069 0.27825223 0.30115531 0.27258752 0.27502915 0.2905764\n",
            " 0.30293345 0.28330029 0.28938878 0.30117487]\n"
          ]
        }
      ],
      "source": [
        "# for the sake of this exercise we can start with using a matrix \n",
        "# that is filled with randomly generated values through numpy's\n",
        "# random.rand function, that draws from a uniform distribution between [0, 1]\n",
        "num_samples, num_features = 200, 10\n",
        "random_data = np.random.rand(num_samples, num_features)\n",
        "\n",
        "print(random_data.shape)\n",
        "print(random_data.mean(0))\n",
        "print(random_data.std(0))"
      ]
    },
    {
      "cell_type": "code",
      "execution_count": null,
      "metadata": {
        "id": "g-jQvuSxa17m"
      },
      "outputs": [],
      "source": [
        "# write a vectorised numpy function to normalise this array\n",
        "# to a mean of zero and a standard deviation of one in\n",
        "# each feature dimension (i.e. taking the mean across all data points)\n",
        "\n"
      ]
    },
    {
      "cell_type": "markdown",
      "metadata": {
        "id": "zUlQFHe5a17n"
      },
      "source": [
        "### Exercise 2.4 - Monte Carlo integration\n",
        "\n",
        "Another nice example to get familiar with numpy is [Monte Carlo integration](https://en.wikipedia.org/wiki/Monte_Carlo_integration). Specifically, we will try to approximate the area of a 2D unit circle ($r=1\\rightarrow A=\\pi r^2=\\pi$) by:\n",
        "\n",
        "\n",
        "\n",
        "1.   randomly sampling points in the square that encloses the unit circle (i.e. $x\\in[-1 ,1], y\\in[-1, 1]$) using numpy's [uniform random sampler](https://numpy.org/doc/stable/reference/random/generated/numpy.random.rand.html) seen in the last exercise\n",
        "2.   calculating the ratio of sampled points that lie within the unit circle ($x^2+y^2\\leq 1$)\n",
        "3.  using that ratio to derive an estimate of $A$\n",
        "\n",
        "Additional numpy functions that could prove usefule are the [np.where function](https://numpy.org/doc/stable/reference/generated/numpy.where.html) for element-wise comparisons and the [np.power function](https://numpy.org/doc/stable/reference/generated/numpy.power.html) for taking exponents."
      ]
    },
    {
      "cell_type": "code",
      "execution_count": null,
      "metadata": {
        "id": "Ca-6Ppaaa17n"
      },
      "outputs": [],
      "source": [
        ""
      ]
    },
    {
      "cell_type": "markdown",
      "source": [
        "# Solutions"
      ],
      "metadata": {
        "id": "I9B_-Dndfmb3"
      }
    },
    {
      "cell_type": "markdown",
      "metadata": {
        "id": "Du9GVTZB13n6"
      },
      "source": [
        " ### Solution 1.1"
      ]
    },
    {
      "cell_type": "code",
      "execution_count": null,
      "metadata": {
        "colab": {
          "base_uri": "https://localhost:8080/"
        },
        "id": "WIdD7rLvzoQU",
        "outputId": "3753b2ab-4563-4bde-d278-ddabc8d1f522"
      },
      "outputs": [
        {
          "name": "stdout",
          "output_type": "stream",
          "text": [
            "<class 'float'>\n"
          ]
        }
      ],
      "source": [
        "# an object of type float is defined by assigning\n",
        "# a floating point number to a variable\n",
        "\n",
        "float_1 = 2.5\n",
        "print(type(float_1))"
      ]
    },
    {
      "cell_type": "code",
      "execution_count": null,
      "metadata": {
        "colab": {
          "base_uri": "https://localhost:8080/"
        },
        "id": "QLESlp0nfdgl",
        "outputId": "5a36fd2e-fbe8-4005-8f93-1380213285c0"
      },
      "outputs": [
        {
          "name": "stdout",
          "output_type": "stream",
          "text": [
            "['__abs__', '__add__', '__bool__', '__ceil__', '__class__', '__delattr__', '__dir__', '__divmod__', '__doc__', '__eq__', '__float__', '__floor__', '__floordiv__', '__format__', '__ge__', '__getattribute__', '__getformat__', '__getnewargs__', '__gt__', '__hash__', '__init__', '__init_subclass__', '__int__', '__le__', '__lt__', '__mod__', '__mul__', '__ne__', '__neg__', '__new__', '__pos__', '__pow__', '__radd__', '__rdivmod__', '__reduce__', '__reduce_ex__', '__repr__', '__rfloordiv__', '__rmod__', '__rmul__', '__round__', '__rpow__', '__rsub__', '__rtruediv__', '__setattr__', '__setformat__', '__sizeof__', '__str__', '__sub__', '__subclasshook__', '__truediv__', '__trunc__', 'as_integer_ratio', 'conjugate', 'fromhex', 'hex', 'imag', 'is_integer', 'real']\n"
          ]
        }
      ],
      "source": [
        "# the operations that a float object supports\n",
        "# can be listed with the dir() command\n",
        "\n",
        "print(dir(float_1))"
      ]
    },
    {
      "cell_type": "code",
      "execution_count": null,
      "metadata": {
        "colab": {
          "base_uri": "https://localhost:8080/"
        },
        "id": "AbekxQImgO2x",
        "outputId": "5d0c0e25-15f5-4760-93ea-b39b0ff623be"
      },
      "outputs": [
        {
          "name": "stdout",
          "output_type": "stream",
          "text": [
            "(5, 2)\n"
          ]
        }
      ],
      "source": [
        "# we find that the object supports an operation\n",
        "# called 'as_integer_ratio', which displays the\n",
        "# floating point number as a ratio of integers\n",
        "\n",
        "print(float_1.as_integer_ratio())"
      ]
    },
    {
      "cell_type": "markdown",
      "metadata": {
        "id": "kmGSQqtQ-hKR"
      },
      "source": [
        "### Solution 1.2"
      ]
    },
    {
      "cell_type": "code",
      "execution_count": null,
      "metadata": {
        "colab": {
          "base_uri": "https://localhost:8080/"
        },
        "id": "8J1QORVt-yVu",
        "outputId": "ff428e32-6b2d-4b3f-a459-49d1b2606283"
      },
      "outputs": [
        {
          "output_type": "stream",
          "name": "stdout",
          "text": [
            "['__add__', '__class__', '__contains__', '__delattr__', '__dir__', '__doc__', '__eq__', '__format__', '__ge__', '__getattribute__', '__getitem__', '__getnewargs__', '__gt__', '__hash__', '__init__', '__init_subclass__', '__iter__', '__le__', '__len__', '__lt__', '__mod__', '__mul__', '__ne__', '__new__', '__reduce__', '__reduce_ex__', '__repr__', '__rmod__', '__rmul__', '__setattr__', '__sizeof__', '__str__', '__subclasshook__', 'capitalize', 'casefold', 'center', 'count', 'encode', 'endswith', 'expandtabs', 'find', 'format', 'format_map', 'index', 'isalnum', 'isalpha', 'isascii', 'isdecimal', 'isdigit', 'isidentifier', 'islower', 'isnumeric', 'isprintable', 'isspace', 'istitle', 'isupper', 'join', 'ljust', 'lower', 'lstrip', 'maketrans', 'partition', 'replace', 'rfind', 'rindex', 'rjust', 'rpartition', 'rsplit', 'rstrip', 'split', 'splitlines', 'startswith', 'strip', 'swapcase', 'title', 'translate', 'upper', 'zfill']\n",
            "Uniq+\n"
          ]
        }
      ],
      "source": [
        "# looking at the operations supported by the string type\n",
        "# we find the capitalize() function, that converts all\n",
        "# characters to lower case except for the first letter\n",
        "\n",
        "print(dir(string_3))\n",
        "print(string_3.capitalize())"
      ]
    },
    {
      "cell_type": "markdown",
      "metadata": {
        "tags": [],
        "id": "BG4ftQJWa17i"
      },
      "source": [
        "### Solution 1.8\n"
      ]
    },
    {
      "cell_type": "code",
      "execution_count": null,
      "metadata": {
        "id": "-Q7f6pmqa17i",
        "outputId": "91096553-ff3d-4ea6-d82a-a43f9ae5f951"
      },
      "outputs": [
        {
          "name": "stdout",
          "output_type": "stream",
          "text": [
            "+UNIQ+\n"
          ]
        }
      ],
      "source": [
        "def wrap(a, b):\n",
        "    return b + a + b\n",
        "\n",
        "print(wrap(\"UNIQ\", \"+\"))"
      ]
    },
    {
      "cell_type": "markdown",
      "metadata": {
        "id": "YQJm2OZCa17m"
      },
      "source": [
        "### Solution 2.3"
      ]
    },
    {
      "cell_type": "code",
      "execution_count": null,
      "metadata": {
        "id": "If0EZREya17n"
      },
      "outputs": [],
      "source": [
        "def standardise(X):\n",
        "    X_centered = X - X.mean(0)\n",
        "    X_standardised = X_centered / X.std(0)\n",
        "    return X_standardised"
      ]
    },
    {
      "cell_type": "code",
      "execution_count": null,
      "metadata": {
        "id": "U7c7Hyuoa17n",
        "outputId": "5cc575c7-5821-484c-df59-3368dd24166d",
        "colab": {
          "base_uri": "https://localhost:8080/"
        }
      },
      "outputs": [
        {
          "output_type": "stream",
          "name": "stdout",
          "text": [
            "means:  [ 4.34097203e-16 -2.88102875e-16  4.38538095e-16 -2.50910404e-16\n",
            " -2.63122857e-16  1.45716772e-16 -8.17124146e-16 -1.62758695e-15\n",
            " -3.79141163e-16  1.04638520e-15]\n",
            "sd:  [1. 1. 1. 1. 1. 1. 1. 1. 1. 1.]\n"
          ]
        }
      ],
      "source": [
        "data_standardised = standardise(random_data)\n",
        "print('means: ', np.mean(data_standardised, axis=0))\n",
        "print('sd: ', np.std(data_standardised, axis=0))"
      ]
    },
    {
      "cell_type": "markdown",
      "metadata": {
        "id": "MXhTiwTba17o"
      },
      "source": [
        "### Solution 2.4"
      ]
    },
    {
      "cell_type": "code",
      "execution_count": null,
      "metadata": {
        "id": "jIH8lQgPa17o",
        "colab": {
          "base_uri": "https://localhost:8080/"
        },
        "outputId": "42845f7c-16cc-4e2a-9a30-a7f062c3c2ea"
      },
      "outputs": [
        {
          "output_type": "execute_result",
          "data": {
            "text/plain": [
              "3.14676"
            ]
          },
          "metadata": {},
          "execution_count": 61
        }
      ],
      "source": [
        "def circle_approx(n_samples):\n",
        "  samples = np.random.rand(n_samples, 2)\n",
        "  samples = (samples - 0.5) * 2\n",
        "  radius = np.power(samples, 2).sum(1)\n",
        "  ratios = np.where(radius >= 1, False, True)\n",
        "  return ratios.mean() * 4\n",
        "circle_approx(100000)"
      ]
    },
    {
      "cell_type": "markdown",
      "metadata": {
        "id": "tMkXxdjpa17o"
      },
      "source": [
        "### Exercise 2.5 - more advanced for anyone who finishes early\n",
        "\n",
        "A subtask of many machine learning algorithms is to compute the likelihood $p(\\mathbf{x}|\\theta)$ of a sample $\\mathbf{x}$ given a probability density model with parameters $\\theta$. Given two models with $\\theta_0$ and $\\theta_1$, we would like to find out which model produces the better fit.\n",
        "\n",
        "For this exercise, we will consider multivariate Normal distributions in $d=5$ dimensions.\n",
        "\n",
        "$p(\\mathbf{x} \\mid \\boldsymbol{\\mu}, \\boldsymbol{\\Sigma})=\\frac{1}{(2 \\pi)^{d / 2}|\\boldsymbol{\\Sigma}|^{1 / 2}} \\exp \\left(-\\frac{1}{2}(\\mathbf{x}-\\boldsymbol{\\mu})^{\\top} \\boldsymbol{\\Sigma}^{-1}(\\mathbf{x}-\\boldsymbol{\\mu})\\right)$\n",
        "\n",
        "where $|\\boldsymbol{\\Sigma}|$ is the determinant of $\\boldsymbol{\\Sigma}$ and $\\boldsymbol{\\Sigma}^{-1}$ it's inverse.\n",
        "\n",
        "Write a function that "
      ]
    },
    {
      "cell_type": "code",
      "execution_count": null,
      "metadata": {
        "id": "bkMgQzExa17o",
        "outputId": "e1aeb1bd-2eed-429f-b82e-0a804a1d2e65"
      },
      "outputs": [
        {
          "name": "stdout",
          "output_type": "stream",
          "text": [
            "[(5,), (5,)]\n",
            "[(5, 5), (5, 5)]\n"
          ]
        }
      ],
      "source": [
        "# let's again start with a uniform distribution of data points\n",
        "X = np.random.rand(200, 5)\n",
        "\n",
        "# set up the two multivariate normal distributions, differing only in their means \n",
        "# (uniformly drawn in [0.5, 1] and [0, 0.5] in each dimension)\n",
        "means = [np.random.rand(X.shape[1]) * 0.5 + 0.5 , - np.random.rand(X.shape[1])  * 0.5 + 0.5]\n",
        "\n",
        "# and with diagonal covariance matrices\n",
        "sigmas = [np.diag(np.random.rand(X.shape[1])), np.diag(np.random.rand(X.shape[1]))]\n",
        "\n",
        "print([m.shape for m in means])\n",
        "print([s.shape for s in sigmas])"
      ]
    },
    {
      "cell_type": "code",
      "execution_count": null,
      "metadata": {
        "id": "CWJDsUu4a17p"
      },
      "outputs": [],
      "source": [
        "def compute_density(X, mean, sigma):\n",
        "    \n",
        "    # compute normalising factor\n",
        "    factor = 1 / (np.power((2*np.pi), X.shape[1]/2) * np.sqrt(np.linalg.det(sigma)))\n",
        "    \n",
        "    # calculate difference to mean and invert sigma\n",
        "    mean_diff = X - mean\n",
        "    sigma_inv = np.linalg.inv(sigma)\n",
        "    \n",
        "    # compute the densities\n",
        "    p = factor * np.exp(-0.5 * np.sum(np.multiply(np.matmul(mean_diff, sigma_inv), mean_diff), axis=1))\n",
        "    return p "
      ]
    },
    {
      "cell_type": "code",
      "execution_count": null,
      "metadata": {
        "id": "iEUh_Ydja17p",
        "outputId": "28430496-5a53-44b0-ab03-0a6f170c3b89"
      },
      "outputs": [
        {
          "data": {
            "text/plain": [
              "array([1, 0, 1, 1, 1, 1, 1, 0, 0, 0, 0, 1, 0, 1, 1, 1, 0, 1, 1, 0, 0, 0,\n",
              "       1, 1, 1, 0, 1, 1, 1, 1, 0, 1, 1, 1, 1, 1, 1, 0, 0, 0, 1, 0, 1, 0,\n",
              "       0, 0, 1, 1, 0, 0, 1, 1, 0, 0, 0, 1, 0, 1, 0, 0, 0, 0, 0, 0, 1, 1,\n",
              "       0, 1, 1, 1, 0, 1, 0, 0, 0, 1, 1, 0, 0, 0, 1, 0, 1, 0, 1, 0, 0, 1,\n",
              "       1, 0, 1, 0, 1, 1, 1, 1, 1, 1, 1, 1, 1, 0, 1, 0, 0, 1, 1, 1, 1, 1,\n",
              "       1, 0, 0, 0, 0, 1, 0, 0, 1, 1, 0, 1, 1, 0, 0, 0, 0, 1, 0, 0, 0, 0,\n",
              "       1, 0, 0, 1, 1, 1, 0, 1, 0, 0, 1, 0, 0, 1, 0, 1, 1, 1, 1, 0, 0, 0,\n",
              "       0, 0, 0, 1, 1, 1, 1, 0, 0, 1, 1, 0, 0, 0, 0, 0, 1, 1, 0, 1, 0, 1,\n",
              "       0, 0, 1, 1, 0, 1, 1, 1, 1, 0, 1, 0, 0, 1, 1, 0, 1, 1, 1, 1, 0, 1,\n",
              "       0, 0], dtype=int64)"
            ]
          },
          "execution_count": 205,
          "metadata": {},
          "output_type": "execute_result"
        }
      ],
      "source": [
        "densities = np.array(\n",
        "    [compute_density(X, mean, sigma) for mean, sigma in zip(means, sigmas)]\n",
        ")\n",
        "densities.argmax(0)"
      ]
    }
  ],
  "metadata": {
    "colab": {
      "collapsed_sections": [
        "Du9GVTZB13n6",
        "kmGSQqtQ-hKR",
        "BG4ftQJWa17i",
        "YQJm2OZCa17m",
        "MXhTiwTba17o",
        "tMkXxdjpa17o"
      ],
      "name": "UNIQ+_intro_to_python.ipynb",
      "provenance": [],
      "include_colab_link": true
    },
    "kernelspec": {
      "display_name": "Python 3 (ipykernel)",
      "language": "python",
      "name": "python3"
    },
    "language_info": {
      "codemirror_mode": {
        "name": "ipython",
        "version": 3
      },
      "file_extension": ".py",
      "mimetype": "text/x-python",
      "name": "python",
      "nbconvert_exporter": "python",
      "pygments_lexer": "ipython3",
      "version": "3.9.12"
    }
  },
  "nbformat": 4,
  "nbformat_minor": 0
}
